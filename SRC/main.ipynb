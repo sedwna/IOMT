{
 "cells": [
  {
   "cell_type": "code",
   "execution_count": 1,
   "metadata": {},
   "outputs": [],
   "source": [
    "import pandas as pd\n",
    "\n",
    "df_benign_1 = pd.read_csv('../data/test/Benign_test.pcap.csv')\n",
    "df_benign_2 = pd.read_csv('../data/train/Benign_train.pcap.csv')\n",
    "\n",
    "df_mqtt_ddos_1 = pd.read_csv('../data/test/MQTT-DDoS-Connect_Flood_test.pcap.csv')\n",
    "df_mqtt_ddos_2 = pd.read_csv('../data/train/MQTT-DDoS-Connect_Flood_train.pcap.csv')\n",
    "\n",
    "\n",
    "df_benign_1['label'] = 0\n",
    "df_benign_2['label'] = 0\n",
    "\n",
    "df_mqtt_ddos_1['label'] = 1\n",
    "df_mqtt_ddos_2['label'] = 1"
   ]
  },
  {
   "cell_type": "code",
   "execution_count": 2,
   "metadata": {},
   "outputs": [],
   "source": [
    "frames = [df_benign_1, df_benign_2, df_mqtt_ddos_1,df_mqtt_ddos_2]\n",
    "\n",
    "df = pd.concat(frames)"
   ]
  },
  {
   "cell_type": "code",
   "execution_count": 3,
   "metadata": {},
   "outputs": [
    {
     "data": {
      "text/html": [
       "<div>\n",
       "<style scoped>\n",
       "    .dataframe tbody tr th:only-of-type {\n",
       "        vertical-align: middle;\n",
       "    }\n",
       "\n",
       "    .dataframe tbody tr th {\n",
       "        vertical-align: top;\n",
       "    }\n",
       "\n",
       "    .dataframe thead th {\n",
       "        text-align: right;\n",
       "    }\n",
       "</style>\n",
       "<table border=\"1\" class=\"dataframe\">\n",
       "  <thead>\n",
       "    <tr style=\"text-align: right;\">\n",
       "      <th></th>\n",
       "      <th>Header_Length</th>\n",
       "      <th>Protocol Type</th>\n",
       "      <th>Duration</th>\n",
       "      <th>Rate</th>\n",
       "      <th>Srate</th>\n",
       "      <th>Drate</th>\n",
       "      <th>fin_flag_number</th>\n",
       "      <th>syn_flag_number</th>\n",
       "      <th>rst_flag_number</th>\n",
       "      <th>psh_flag_number</th>\n",
       "      <th>...</th>\n",
       "      <th>Std</th>\n",
       "      <th>Tot size</th>\n",
       "      <th>IAT</th>\n",
       "      <th>Number</th>\n",
       "      <th>Magnitue</th>\n",
       "      <th>Radius</th>\n",
       "      <th>Covariance</th>\n",
       "      <th>Variance</th>\n",
       "      <th>Weight</th>\n",
       "      <th>label</th>\n",
       "    </tr>\n",
       "  </thead>\n",
       "  <tbody>\n",
       "    <tr>\n",
       "      <th>0</th>\n",
       "      <td>138.2</td>\n",
       "      <td>7.1</td>\n",
       "      <td>83.1</td>\n",
       "      <td>39123.054540</td>\n",
       "      <td>39123.054540</td>\n",
       "      <td>0.0</td>\n",
       "      <td>0.0</td>\n",
       "      <td>0.0</td>\n",
       "      <td>0.0</td>\n",
       "      <td>0.5</td>\n",
       "      <td>...</td>\n",
       "      <td>58.513912</td>\n",
       "      <td>99.0</td>\n",
       "      <td>1.694703e+08</td>\n",
       "      <td>5.5</td>\n",
       "      <td>15.954786</td>\n",
       "      <td>82.751168</td>\n",
       "      <td>3899.571692</td>\n",
       "      <td>0.9</td>\n",
       "      <td>38.5</td>\n",
       "      <td>0</td>\n",
       "    </tr>\n",
       "    <tr>\n",
       "      <th>1</th>\n",
       "      <td>86.0</td>\n",
       "      <td>4.2</td>\n",
       "      <td>44.8</td>\n",
       "      <td>72928.095973</td>\n",
       "      <td>72928.095973</td>\n",
       "      <td>0.0</td>\n",
       "      <td>0.0</td>\n",
       "      <td>0.0</td>\n",
       "      <td>0.0</td>\n",
       "      <td>0.3</td>\n",
       "      <td>...</td>\n",
       "      <td>44.556792</td>\n",
       "      <td>64.4</td>\n",
       "      <td>1.694703e+08</td>\n",
       "      <td>13.5</td>\n",
       "      <td>13.405243</td>\n",
       "      <td>63.022662</td>\n",
       "      <td>1993.712535</td>\n",
       "      <td>1.0</td>\n",
       "      <td>244.6</td>\n",
       "      <td>0</td>\n",
       "    </tr>\n",
       "    <tr>\n",
       "      <th>2</th>\n",
       "      <td>171.4</td>\n",
       "      <td>4.1</td>\n",
       "      <td>32.0</td>\n",
       "      <td>52552.111857</td>\n",
       "      <td>52552.111857</td>\n",
       "      <td>0.0</td>\n",
       "      <td>0.0</td>\n",
       "      <td>0.0</td>\n",
       "      <td>0.0</td>\n",
       "      <td>0.2</td>\n",
       "      <td>...</td>\n",
       "      <td>148.485766</td>\n",
       "      <td>152.1</td>\n",
       "      <td>9.108920e-02</td>\n",
       "      <td>5.5</td>\n",
       "      <td>14.407632</td>\n",
       "      <td>209.990584</td>\n",
       "      <td>42487.982728</td>\n",
       "      <td>0.9</td>\n",
       "      <td>38.5</td>\n",
       "      <td>0</td>\n",
       "    </tr>\n",
       "    <tr>\n",
       "      <th>3</th>\n",
       "      <td>227.8</td>\n",
       "      <td>6.0</td>\n",
       "      <td>64.0</td>\n",
       "      <td>24502.562704</td>\n",
       "      <td>24502.562704</td>\n",
       "      <td>0.0</td>\n",
       "      <td>0.0</td>\n",
       "      <td>0.0</td>\n",
       "      <td>0.0</td>\n",
       "      <td>0.5</td>\n",
       "      <td>...</td>\n",
       "      <td>214.732903</td>\n",
       "      <td>80.2</td>\n",
       "      <td>1.694703e+08</td>\n",
       "      <td>13.5</td>\n",
       "      <td>15.986909</td>\n",
       "      <td>304.317403</td>\n",
       "      <td>46658.604609</td>\n",
       "      <td>1.0</td>\n",
       "      <td>244.6</td>\n",
       "      <td>0</td>\n",
       "    </tr>\n",
       "    <tr>\n",
       "      <th>4</th>\n",
       "      <td>347.6</td>\n",
       "      <td>7.1</td>\n",
       "      <td>64.0</td>\n",
       "      <td>6263.156480</td>\n",
       "      <td>6263.156480</td>\n",
       "      <td>0.0</td>\n",
       "      <td>0.0</td>\n",
       "      <td>0.0</td>\n",
       "      <td>0.0</td>\n",
       "      <td>0.5</td>\n",
       "      <td>...</td>\n",
       "      <td>116.233361</td>\n",
       "      <td>162.5</td>\n",
       "      <td>9.976871e-02</td>\n",
       "      <td>5.5</td>\n",
       "      <td>15.169114</td>\n",
       "      <td>164.378795</td>\n",
       "      <td>30786.754577</td>\n",
       "      <td>0.9</td>\n",
       "      <td>38.5</td>\n",
       "      <td>0</td>\n",
       "    </tr>\n",
       "  </tbody>\n",
       "</table>\n",
       "<p>5 rows × 46 columns</p>\n",
       "</div>"
      ],
      "text/plain": [
       "   Header_Length  Protocol Type  Duration          Rate         Srate  Drate  \\\n",
       "0          138.2            7.1      83.1  39123.054540  39123.054540    0.0   \n",
       "1           86.0            4.2      44.8  72928.095973  72928.095973    0.0   \n",
       "2          171.4            4.1      32.0  52552.111857  52552.111857    0.0   \n",
       "3          227.8            6.0      64.0  24502.562704  24502.562704    0.0   \n",
       "4          347.6            7.1      64.0   6263.156480   6263.156480    0.0   \n",
       "\n",
       "   fin_flag_number  syn_flag_number  rst_flag_number  psh_flag_number  ...  \\\n",
       "0              0.0              0.0              0.0              0.5  ...   \n",
       "1              0.0              0.0              0.0              0.3  ...   \n",
       "2              0.0              0.0              0.0              0.2  ...   \n",
       "3              0.0              0.0              0.0              0.5  ...   \n",
       "4              0.0              0.0              0.0              0.5  ...   \n",
       "\n",
       "          Std  Tot size           IAT  Number   Magnitue      Radius  \\\n",
       "0   58.513912      99.0  1.694703e+08     5.5  15.954786   82.751168   \n",
       "1   44.556792      64.4  1.694703e+08    13.5  13.405243   63.022662   \n",
       "2  148.485766     152.1  9.108920e-02     5.5  14.407632  209.990584   \n",
       "3  214.732903      80.2  1.694703e+08    13.5  15.986909  304.317403   \n",
       "4  116.233361     162.5  9.976871e-02     5.5  15.169114  164.378795   \n",
       "\n",
       "     Covariance  Variance  Weight  label  \n",
       "0   3899.571692       0.9    38.5      0  \n",
       "1   1993.712535       1.0   244.6      0  \n",
       "2  42487.982728       0.9    38.5      0  \n",
       "3  46658.604609       1.0   244.6      0  \n",
       "4  30786.754577       0.9    38.5      0  \n",
       "\n",
       "[5 rows x 46 columns]"
      ]
     },
     "execution_count": 3,
     "metadata": {},
     "output_type": "execute_result"
    }
   ],
   "source": [
    "# df = df.sample(frac=1)\n",
    "df.head()"
   ]
  },
  {
   "cell_type": "code",
   "execution_count": 4,
   "metadata": {},
   "outputs": [
    {
     "data": {
      "text/html": [
       "<div>\n",
       "<style scoped>\n",
       "    .dataframe tbody tr th:only-of-type {\n",
       "        vertical-align: middle;\n",
       "    }\n",
       "\n",
       "    .dataframe tbody tr th {\n",
       "        vertical-align: top;\n",
       "    }\n",
       "\n",
       "    .dataframe thead th {\n",
       "        text-align: right;\n",
       "    }\n",
       "</style>\n",
       "<table border=\"1\" class=\"dataframe\">\n",
       "  <thead>\n",
       "    <tr style=\"text-align: right;\">\n",
       "      <th></th>\n",
       "      <th>Header_Length</th>\n",
       "      <th>Protocol Type</th>\n",
       "      <th>Duration</th>\n",
       "      <th>Rate</th>\n",
       "      <th>Srate</th>\n",
       "      <th>Drate</th>\n",
       "      <th>fin_flag_number</th>\n",
       "      <th>syn_flag_number</th>\n",
       "      <th>rst_flag_number</th>\n",
       "      <th>psh_flag_number</th>\n",
       "      <th>...</th>\n",
       "      <th>Std</th>\n",
       "      <th>Tot size</th>\n",
       "      <th>IAT</th>\n",
       "      <th>Number</th>\n",
       "      <th>Magnitue</th>\n",
       "      <th>Radius</th>\n",
       "      <th>Covariance</th>\n",
       "      <th>Variance</th>\n",
       "      <th>Weight</th>\n",
       "      <th>label</th>\n",
       "    </tr>\n",
       "  </thead>\n",
       "  <tbody>\n",
       "    <tr>\n",
       "      <th>173031</th>\n",
       "      <td>509.50</td>\n",
       "      <td>6.0</td>\n",
       "      <td>64.0</td>\n",
       "      <td>8.589361</td>\n",
       "      <td>8.589361</td>\n",
       "      <td>0.0</td>\n",
       "      <td>0.19</td>\n",
       "      <td>0.22</td>\n",
       "      <td>0.140000</td>\n",
       "      <td>0.220000</td>\n",
       "      <td>...</td>\n",
       "      <td>5.297607</td>\n",
       "      <td>68.34</td>\n",
       "      <td>8.466703e+07</td>\n",
       "      <td>9.5</td>\n",
       "      <td>11.676855</td>\n",
       "      <td>7.479863</td>\n",
       "      <td>35.305766</td>\n",
       "      <td>0.930000</td>\n",
       "      <td>141.550000</td>\n",
       "      <td>1</td>\n",
       "    </tr>\n",
       "    <tr>\n",
       "      <th>173032</th>\n",
       "      <td>451.06</td>\n",
       "      <td>6.0</td>\n",
       "      <td>64.0</td>\n",
       "      <td>9.905288</td>\n",
       "      <td>9.905288</td>\n",
       "      <td>0.0</td>\n",
       "      <td>0.09</td>\n",
       "      <td>0.38</td>\n",
       "      <td>0.020000</td>\n",
       "      <td>0.120000</td>\n",
       "      <td>...</td>\n",
       "      <td>3.155700</td>\n",
       "      <td>69.90</td>\n",
       "      <td>8.466703e+07</td>\n",
       "      <td>9.5</td>\n",
       "      <td>11.823472</td>\n",
       "      <td>4.468443</td>\n",
       "      <td>13.717168</td>\n",
       "      <td>0.800000</td>\n",
       "      <td>141.550000</td>\n",
       "      <td>1</td>\n",
       "    </tr>\n",
       "    <tr>\n",
       "      <th>173033</th>\n",
       "      <td>451.54</td>\n",
       "      <td>6.0</td>\n",
       "      <td>64.0</td>\n",
       "      <td>9.965895</td>\n",
       "      <td>9.965895</td>\n",
       "      <td>0.0</td>\n",
       "      <td>0.32</td>\n",
       "      <td>0.27</td>\n",
       "      <td>0.000000</td>\n",
       "      <td>0.260000</td>\n",
       "      <td>...</td>\n",
       "      <td>3.066787</td>\n",
       "      <td>69.59</td>\n",
       "      <td>8.466703e+07</td>\n",
       "      <td>9.5</td>\n",
       "      <td>11.826673</td>\n",
       "      <td>4.340382</td>\n",
       "      <td>12.808156</td>\n",
       "      <td>0.880000</td>\n",
       "      <td>141.550000</td>\n",
       "      <td>1</td>\n",
       "    </tr>\n",
       "    <tr>\n",
       "      <th>173034</th>\n",
       "      <td>574.44</td>\n",
       "      <td>6.0</td>\n",
       "      <td>64.0</td>\n",
       "      <td>10.765141</td>\n",
       "      <td>10.765141</td>\n",
       "      <td>0.0</td>\n",
       "      <td>0.22</td>\n",
       "      <td>0.06</td>\n",
       "      <td>0.290000</td>\n",
       "      <td>0.270000</td>\n",
       "      <td>...</td>\n",
       "      <td>6.606219</td>\n",
       "      <td>65.71</td>\n",
       "      <td>8.466703e+07</td>\n",
       "      <td>9.5</td>\n",
       "      <td>11.497337</td>\n",
       "      <td>9.343937</td>\n",
       "      <td>57.624075</td>\n",
       "      <td>0.900000</td>\n",
       "      <td>141.550000</td>\n",
       "      <td>1</td>\n",
       "    </tr>\n",
       "    <tr>\n",
       "      <th>173035</th>\n",
       "      <td>664.00</td>\n",
       "      <td>6.0</td>\n",
       "      <td>64.0</td>\n",
       "      <td>9.091301</td>\n",
       "      <td>9.091301</td>\n",
       "      <td>0.0</td>\n",
       "      <td>0.00</td>\n",
       "      <td>0.00</td>\n",
       "      <td>0.333333</td>\n",
       "      <td>0.666667</td>\n",
       "      <td>...</td>\n",
       "      <td>9.147077</td>\n",
       "      <td>73.00</td>\n",
       "      <td>3.019969e-06</td>\n",
       "      <td>2.0</td>\n",
       "      <td>12.183733</td>\n",
       "      <td>12.935920</td>\n",
       "      <td>125.555556</td>\n",
       "      <td>0.666667</td>\n",
       "      <td>4.666667</td>\n",
       "      <td>1</td>\n",
       "    </tr>\n",
       "  </tbody>\n",
       "</table>\n",
       "<p>5 rows × 46 columns</p>\n",
       "</div>"
      ],
      "text/plain": [
       "        Header_Length  Protocol Type  Duration       Rate      Srate  Drate  \\\n",
       "173031         509.50            6.0      64.0   8.589361   8.589361    0.0   \n",
       "173032         451.06            6.0      64.0   9.905288   9.905288    0.0   \n",
       "173033         451.54            6.0      64.0   9.965895   9.965895    0.0   \n",
       "173034         574.44            6.0      64.0  10.765141  10.765141    0.0   \n",
       "173035         664.00            6.0      64.0   9.091301   9.091301    0.0   \n",
       "\n",
       "        fin_flag_number  syn_flag_number  rst_flag_number  psh_flag_number  \\\n",
       "173031             0.19             0.22         0.140000         0.220000   \n",
       "173032             0.09             0.38         0.020000         0.120000   \n",
       "173033             0.32             0.27         0.000000         0.260000   \n",
       "173034             0.22             0.06         0.290000         0.270000   \n",
       "173035             0.00             0.00         0.333333         0.666667   \n",
       "\n",
       "        ...       Std  Tot size           IAT  Number   Magnitue     Radius  \\\n",
       "173031  ...  5.297607     68.34  8.466703e+07     9.5  11.676855   7.479863   \n",
       "173032  ...  3.155700     69.90  8.466703e+07     9.5  11.823472   4.468443   \n",
       "173033  ...  3.066787     69.59  8.466703e+07     9.5  11.826673   4.340382   \n",
       "173034  ...  6.606219     65.71  8.466703e+07     9.5  11.497337   9.343937   \n",
       "173035  ...  9.147077     73.00  3.019969e-06     2.0  12.183733  12.935920   \n",
       "\n",
       "        Covariance  Variance      Weight  label  \n",
       "173031   35.305766  0.930000  141.550000      1  \n",
       "173032   13.717168  0.800000  141.550000      1  \n",
       "173033   12.808156  0.880000  141.550000      1  \n",
       "173034   57.624075  0.900000  141.550000      1  \n",
       "173035  125.555556  0.666667    4.666667      1  \n",
       "\n",
       "[5 rows x 46 columns]"
      ]
     },
     "execution_count": 4,
     "metadata": {},
     "output_type": "execute_result"
    }
   ],
   "source": [
    "df.tail()"
   ]
  },
  {
   "cell_type": "code",
   "execution_count": 5,
   "metadata": {},
   "outputs": [
    {
     "name": "stdout",
     "output_type": "stream",
     "text": [
      "<class 'pandas.core.frame.DataFrame'>\n",
      "Index: 445291 entries, 0 to 173035\n",
      "Data columns (total 46 columns):\n",
      " #   Column           Non-Null Count   Dtype  \n",
      "---  ------           --------------   -----  \n",
      " 0   Header_Length    445291 non-null  float64\n",
      " 1   Protocol Type    445291 non-null  float64\n",
      " 2   Duration         445291 non-null  float64\n",
      " 3   Rate             445291 non-null  float64\n",
      " 4   Srate            445291 non-null  float64\n",
      " 5   Drate            445291 non-null  float64\n",
      " 6   fin_flag_number  445291 non-null  float64\n",
      " 7   syn_flag_number  445291 non-null  float64\n",
      " 8   rst_flag_number  445291 non-null  float64\n",
      " 9   psh_flag_number  445291 non-null  float64\n",
      " 10  ack_flag_number  445291 non-null  float64\n",
      " 11  ece_flag_number  445291 non-null  float64\n",
      " 12  cwr_flag_number  445291 non-null  float64\n",
      " 13  ack_count        445291 non-null  float64\n",
      " 14  syn_count        445291 non-null  float64\n",
      " 15  fin_count        445291 non-null  float64\n",
      " 16  rst_count        445291 non-null  float64\n",
      " 17  HTTP             445291 non-null  float64\n",
      " 18  HTTPS            445291 non-null  float64\n",
      " 19  DNS              445291 non-null  float64\n",
      " 20  Telnet           445291 non-null  float64\n",
      " 21  SMTP             445291 non-null  float64\n",
      " 22  SSH              445291 non-null  float64\n",
      " 23  IRC              445291 non-null  float64\n",
      " 24  TCP              445291 non-null  float64\n",
      " 25  UDP              445291 non-null  float64\n",
      " 26  DHCP             445291 non-null  float64\n",
      " 27  ARP              445291 non-null  float64\n",
      " 28  ICMP             445291 non-null  float64\n",
      " 29  IGMP             445291 non-null  float64\n",
      " 30  IPv              445291 non-null  float64\n",
      " 31  LLC              445291 non-null  float64\n",
      " 32  Tot sum          445291 non-null  float64\n",
      " 33  Min              445291 non-null  float64\n",
      " 34  Max              445291 non-null  float64\n",
      " 35  AVG              445291 non-null  float64\n",
      " 36  Std              445291 non-null  float64\n",
      " 37  Tot size         445291 non-null  float64\n",
      " 38  IAT              445291 non-null  float64\n",
      " 39  Number           445291 non-null  float64\n",
      " 40  Magnitue         445291 non-null  float64\n",
      " 41  Radius           445291 non-null  float64\n",
      " 42  Covariance       445291 non-null  float64\n",
      " 43  Variance         445291 non-null  float64\n",
      " 44  Weight           445291 non-null  float64\n",
      " 45  label            445291 non-null  int64  \n",
      "dtypes: float64(45), int64(1)\n",
      "memory usage: 159.7 MB\n"
     ]
    }
   ],
   "source": [
    "df.info()"
   ]
  },
  {
   "cell_type": "code",
   "execution_count": 6,
   "metadata": {},
   "outputs": [],
   "source": [
    "features  = [\"Header_Length\",\"Protocol Type\",\"Duration\",\"Rate\",\"Srate\",\"Drate\",\"fin_flag_number\",\"syn_flag_number\",\"rst_flag_number\",\"psh_flag_number\",\"ack_flag_number\",\"ece_flag_number\",\"cwr_flag_number\",\"ack_count\",\"syn_count\",\"fin_count\",\"rst_count\",\"HTTP\",\"HTTPS\",\"DNS\",\"Telnet\",\"SMTP\",\"SSH\",\"IRC\",\"TCP\",\"UDP\",\"DHCP\",\"ARP\",\"ICMP\",\"IGMP\",\"IPv\",\"LLC\",\"Tot sum\",\"Min\",\"Max\",\"AVG\",\"Std\",\"Tot size\",\"IAT\",\"Number\",\"Magnitue\",\"Radius\",\"Covariance\",\"Variance\",\"Weight\"]\n",
    "\n",
    "\n",
    "X = df.loc[:,features ]\n",
    "y = df.loc[:,['label']]\n",
    "\n",
    "from sklearn.model_selection import train_test_split\n",
    "X_train, X_test, y_train, y_test = train_test_split(X, y, test_size=0.3)"
   ]
  },
  {
   "cell_type": "code",
   "execution_count": 7,
   "metadata": {},
   "outputs": [],
   "source": [
    "from sklearn import tree\n",
    "\n",
    "model = tree.DecisionTreeRegressor()\n",
    "model = model.fit(X_train,y_train)\n",
    "y_pred = model.predict(X_test)"
   ]
  },
  {
   "cell_type": "code",
   "execution_count": 8,
   "metadata": {},
   "outputs": [
    {
     "data": {
      "text/plain": [
       "0.9999026858699883"
      ]
     },
     "execution_count": 8,
     "metadata": {},
     "output_type": "execute_result"
    }
   ],
   "source": [
    "from sklearn.metrics import accuracy_score\n",
    "accuracy_score(y_test, y_pred)\n"
   ]
  },
  {
   "cell_type": "code",
   "execution_count": 9,
   "metadata": {},
   "outputs": [
    {
     "data": {
      "text/plain": [
       "<sklearn.metrics._plot.confusion_matrix.ConfusionMatrixDisplay at 0x18d5e99cd10>"
      ]
     },
     "execution_count": 9,
     "metadata": {},
     "output_type": "execute_result"
    },
    {
     "data": {
      "image/png": "[encoded data removed]",
      "text/plain": [
       "<Figure size 640x480 with 2 Axes>"
      ]
     },
     "metadata": {},
     "output_type": "display_data"
    }
   ],
   "source": [
    "from sklearn.metrics import confusion_matrix, ConfusionMatrixDisplay\n",
    "\n",
    "cm = confusion_matrix(y_test, y_pred)\n",
    "\n",
    "disp = ConfusionMatrixDisplay(confusion_matrix=cm)\n",
    "\n",
    "disp.plot()\n"
   ]
  },
  {
   "cell_type": "code",
   "execution_count": 10,
   "metadata": {},
   "outputs": [
    {
     "name": "stdout",
     "output_type": "stream",
     "text": [
      "0.9999025499528678\n",
      "0.9999026858699883\n",
      "0.9999026858972316\n",
      "[0.99990619 0.99989891]\n"
     ]
    }
   ],
   "source": [
    "\n",
    "from sklearn.metrics import f1_score\n",
    "\n",
    "print(f1_score(y_test, y_pred, average='macro'))\n",
    "print(f1_score(y_test, y_pred, average='micro'))\n",
    "print(f1_score(y_test, y_pred, average='weighted'))\n",
    "print(f1_score(y_test, y_pred, average=None))"
   ]
  },
  {
   "cell_type": "code",
   "execution_count": 11,
   "metadata": {},
   "outputs": [],
   "source": [
    "test1 = [98.69,6.0,64.0,173299.3495528593,173299.3495528593,0.0,0.16,0.17,0.28,0.23,0.69,0.0,0.0,0.16,0.17,0.4,1.08,0.0,0.0,0.0,0.0,0.0,0.0,0.0,1.0,0.0,0.0,0.0,0.0,0.0,1.0,1.0,692.09,59.08,73.78,66.11540543340388,5.319531965796487,65.31,84667047.2917197,9.5,11.491471193202509,7.499204269366774,40.138856529575065,0.9,141.55]"
   ]
  },
  {
   "cell_type": "code",
   "execution_count": 12,
   "metadata": {},
   "outputs": [
    {
     "data": {
      "text/plain": [
       "pandas.core.arrays.floating.FloatingArray"
      ]
     },
     "execution_count": 12,
     "metadata": {},
     "output_type": "execute_result"
    }
   ],
   "source": [
    "test2 = pd.array(test1)\n",
    "test2.reshape(1,-1)\n",
    "type(test2)"
   ]
  },
  {
   "cell_type": "code",
   "execution_count": 13,
   "metadata": {},
   "outputs": [
    {
     "name": "stderr",
     "output_type": "stream",
     "text": [
      "c:\\Users\\priso\\anaconda3\\Lib\\site-packages\\sklearn\\base.py:464: UserWarning: X does not have valid feature names, but DecisionTreeRegressor was fitted with feature names\n",
      "  warnings.warn(\n"
     ]
    },
    {
     "ename": "ValueError",
     "evalue": "Expected 2D array, got 1D array instead:\narray=[9.8690002e+01 6.0000000e+00 6.4000000e+01 1.7329934e+05 1.7329934e+05\n 0.0000000e+00 1.6000000e-01 1.7000000e-01 2.8000000e-01 2.3000000e-01\n 6.9000000e-01 0.0000000e+00 0.0000000e+00 1.6000000e-01 1.7000000e-01\n 4.0000001e-01 1.0800000e+00 0.0000000e+00 0.0000000e+00 0.0000000e+00\n 0.0000000e+00 0.0000000e+00 0.0000000e+00 0.0000000e+00 1.0000000e+00\n 0.0000000e+00 0.0000000e+00 0.0000000e+00 0.0000000e+00 0.0000000e+00\n 1.0000000e+00 1.0000000e+00 6.9209003e+02 5.9080002e+01 7.3779999e+01\n 6.6115402e+01 5.3195319e+00 6.5309998e+01 8.4667048e+07 9.5000000e+00\n 1.1491471e+01 7.4992042e+00 4.0138855e+01 8.9999998e-01 1.4155000e+02].\nReshape your data either using array.reshape(-1, 1) if your data has a single feature or array.reshape(1, -1) if it contains a single sample.",
     "output_type": "error",
     "traceback": [
      "\u001b[1;31m---------------------------------------------------------------------------\u001b[0m",
      "\u001b[1;31mValueError\u001b[0m                                Traceback (most recent call last)",
      "Cell \u001b[1;32mIn[13], line 1\u001b[0m\n\u001b[1;32m----> 1\u001b[0m output \u001b[38;5;241m=\u001b[39m model\u001b[38;5;241m.\u001b[39mpredict(test2)\n\u001b[0;32m      2\u001b[0m output\n",
      "File \u001b[1;32mc:\\Users\\priso\\anaconda3\\Lib\\site-packages\\sklearn\\tree\\_classes.py:500\u001b[0m, in \u001b[0;36mBaseDecisionTree.predict\u001b[1;34m(self, X, check_input)\u001b[0m\n\u001b[0;32m    477\u001b[0m \u001b[38;5;250m\u001b[39m\u001b[38;5;124;03m\"\"\"Predict class or regression value for X.\u001b[39;00m\n\u001b[0;32m    478\u001b[0m \n\u001b[0;32m    479\u001b[0m \u001b[38;5;124;03mFor a classification model, the predicted class for each sample in X is\u001b[39;00m\n\u001b[1;32m   (...)\u001b[0m\n\u001b[0;32m    497\u001b[0m \u001b[38;5;124;03m    The predicted classes, or the predict values.\u001b[39;00m\n\u001b[0;32m    498\u001b[0m \u001b[38;5;124;03m\"\"\"\u001b[39;00m\n\u001b[0;32m    499\u001b[0m check_is_fitted(\u001b[38;5;28mself\u001b[39m)\n\u001b[1;32m--> 500\u001b[0m X \u001b[38;5;241m=\u001b[39m \u001b[38;5;28mself\u001b[39m\u001b[38;5;241m.\u001b[39m_validate_X_predict(X, check_input)\n\u001b[0;32m    501\u001b[0m proba \u001b[38;5;241m=\u001b[39m \u001b[38;5;28mself\u001b[39m\u001b[38;5;241m.\u001b[39mtree_\u001b[38;5;241m.\u001b[39mpredict(X)\n\u001b[0;32m    502\u001b[0m n_samples \u001b[38;5;241m=\u001b[39m X\u001b[38;5;241m.\u001b[39mshape[\u001b[38;5;241m0\u001b[39m]\n",
      "File \u001b[1;32mc:\\Users\\priso\\anaconda3\\Lib\\site-packages\\sklearn\\tree\\_classes.py:460\u001b[0m, in \u001b[0;36mBaseDecisionTree._validate_X_predict\u001b[1;34m(self, X, check_input)\u001b[0m\n\u001b[0;32m    458\u001b[0m \u001b[38;5;28;01melse\u001b[39;00m:\n\u001b[0;32m    459\u001b[0m     force_all_finite \u001b[38;5;241m=\u001b[39m \u001b[38;5;28;01mTrue\u001b[39;00m\n\u001b[1;32m--> 460\u001b[0m X \u001b[38;5;241m=\u001b[39m \u001b[38;5;28mself\u001b[39m\u001b[38;5;241m.\u001b[39m_validate_data(\n\u001b[0;32m    461\u001b[0m     X,\n\u001b[0;32m    462\u001b[0m     dtype\u001b[38;5;241m=\u001b[39mDTYPE,\n\u001b[0;32m    463\u001b[0m     accept_sparse\u001b[38;5;241m=\u001b[39m\u001b[38;5;124m\"\u001b[39m\u001b[38;5;124mcsr\u001b[39m\u001b[38;5;124m\"\u001b[39m,\n\u001b[0;32m    464\u001b[0m     reset\u001b[38;5;241m=\u001b[39m\u001b[38;5;28;01mFalse\u001b[39;00m,\n\u001b[0;32m    465\u001b[0m     force_all_finite\u001b[38;5;241m=\u001b[39mforce_all_finite,\n\u001b[0;32m    466\u001b[0m )\n\u001b[0;32m    467\u001b[0m \u001b[38;5;28;01mif\u001b[39;00m issparse(X) \u001b[38;5;129;01mand\u001b[39;00m (\n\u001b[0;32m    468\u001b[0m     X\u001b[38;5;241m.\u001b[39mindices\u001b[38;5;241m.\u001b[39mdtype \u001b[38;5;241m!=\u001b[39m np\u001b[38;5;241m.\u001b[39mintc \u001b[38;5;129;01mor\u001b[39;00m X\u001b[38;5;241m.\u001b[39mindptr\u001b[38;5;241m.\u001b[39mdtype \u001b[38;5;241m!=\u001b[39m np\u001b[38;5;241m.\u001b[39mintc\n\u001b[0;32m    469\u001b[0m ):\n\u001b[0;32m    470\u001b[0m     \u001b[38;5;28;01mraise\u001b[39;00m \u001b[38;5;167;01mValueError\u001b[39;00m(\u001b[38;5;124m\"\u001b[39m\u001b[38;5;124mNo support for np.int64 index based sparse matrices\u001b[39m\u001b[38;5;124m\"\u001b[39m)\n",
      "File \u001b[1;32mc:\\Users\\priso\\anaconda3\\Lib\\site-packages\\sklearn\\base.py:604\u001b[0m, in \u001b[0;36mBaseEstimator._validate_data\u001b[1;34m(self, X, y, reset, validate_separately, cast_to_ndarray, **check_params)\u001b[0m\n\u001b[0;32m    602\u001b[0m         out \u001b[38;5;241m=\u001b[39m X, y\n\u001b[0;32m    603\u001b[0m \u001b[38;5;28;01melif\u001b[39;00m \u001b[38;5;129;01mnot\u001b[39;00m no_val_X \u001b[38;5;129;01mand\u001b[39;00m no_val_y:\n\u001b[1;32m--> 604\u001b[0m     out \u001b[38;5;241m=\u001b[39m check_array(X, input_name\u001b[38;5;241m=\u001b[39m\u001b[38;5;124m\"\u001b[39m\u001b[38;5;124mX\u001b[39m\u001b[38;5;124m\"\u001b[39m, \u001b[38;5;241m*\u001b[39m\u001b[38;5;241m*\u001b[39mcheck_params)\n\u001b[0;32m    605\u001b[0m \u001b[38;5;28;01melif\u001b[39;00m no_val_X \u001b[38;5;129;01mand\u001b[39;00m \u001b[38;5;129;01mnot\u001b[39;00m no_val_y:\n\u001b[0;32m    606\u001b[0m     out \u001b[38;5;241m=\u001b[39m _check_y(y, \u001b[38;5;241m*\u001b[39m\u001b[38;5;241m*\u001b[39mcheck_params)\n",
      "File \u001b[1;32mc:\\Users\\priso\\anaconda3\\Lib\\site-packages\\sklearn\\utils\\validation.py:940\u001b[0m, in \u001b[0;36mcheck_array\u001b[1;34m(array, accept_sparse, accept_large_sparse, dtype, order, copy, force_all_finite, ensure_2d, allow_nd, ensure_min_samples, ensure_min_features, estimator, input_name)\u001b[0m\n\u001b[0;32m    938\u001b[0m     \u001b[38;5;66;03m# If input is 1D raise error\u001b[39;00m\n\u001b[0;32m    939\u001b[0m     \u001b[38;5;28;01mif\u001b[39;00m array\u001b[38;5;241m.\u001b[39mndim \u001b[38;5;241m==\u001b[39m \u001b[38;5;241m1\u001b[39m:\n\u001b[1;32m--> 940\u001b[0m         \u001b[38;5;28;01mraise\u001b[39;00m \u001b[38;5;167;01mValueError\u001b[39;00m(\n\u001b[0;32m    941\u001b[0m             \u001b[38;5;124m\"\u001b[39m\u001b[38;5;124mExpected 2D array, got 1D array instead:\u001b[39m\u001b[38;5;130;01m\\n\u001b[39;00m\u001b[38;5;124marray=\u001b[39m\u001b[38;5;132;01m{}\u001b[39;00m\u001b[38;5;124m.\u001b[39m\u001b[38;5;130;01m\\n\u001b[39;00m\u001b[38;5;124m\"\u001b[39m\n\u001b[0;32m    942\u001b[0m             \u001b[38;5;124m\"\u001b[39m\u001b[38;5;124mReshape your data either using array.reshape(-1, 1) if \u001b[39m\u001b[38;5;124m\"\u001b[39m\n\u001b[0;32m    943\u001b[0m             \u001b[38;5;124m\"\u001b[39m\u001b[38;5;124myour data has a single feature or array.reshape(1, -1) \u001b[39m\u001b[38;5;124m\"\u001b[39m\n\u001b[0;32m    944\u001b[0m             \u001b[38;5;124m\"\u001b[39m\u001b[38;5;124mif it contains a single sample.\u001b[39m\u001b[38;5;124m\"\u001b[39m\u001b[38;5;241m.\u001b[39mformat(array)\n\u001b[0;32m    945\u001b[0m         )\n\u001b[0;32m    947\u001b[0m \u001b[38;5;28;01mif\u001b[39;00m dtype_numeric \u001b[38;5;129;01mand\u001b[39;00m \u001b[38;5;28mhasattr\u001b[39m(array\u001b[38;5;241m.\u001b[39mdtype, \u001b[38;5;124m\"\u001b[39m\u001b[38;5;124mkind\u001b[39m\u001b[38;5;124m\"\u001b[39m) \u001b[38;5;129;01mand\u001b[39;00m array\u001b[38;5;241m.\u001b[39mdtype\u001b[38;5;241m.\u001b[39mkind \u001b[38;5;129;01min\u001b[39;00m \u001b[38;5;124m\"\u001b[39m\u001b[38;5;124mUSV\u001b[39m\u001b[38;5;124m\"\u001b[39m:\n\u001b[0;32m    948\u001b[0m     \u001b[38;5;28;01mraise\u001b[39;00m \u001b[38;5;167;01mValueError\u001b[39;00m(\n\u001b[0;32m    949\u001b[0m         \u001b[38;5;124m\"\u001b[39m\u001b[38;5;124mdtype=\u001b[39m\u001b[38;5;124m'\u001b[39m\u001b[38;5;124mnumeric\u001b[39m\u001b[38;5;124m'\u001b[39m\u001b[38;5;124m is not compatible with arrays of bytes/strings.\u001b[39m\u001b[38;5;124m\"\u001b[39m\n\u001b[0;32m    950\u001b[0m         \u001b[38;5;124m\"\u001b[39m\u001b[38;5;124mConvert your data to numeric values explicitly instead.\u001b[39m\u001b[38;5;124m\"\u001b[39m\n\u001b[0;32m    951\u001b[0m     )\n",
      "\u001b[1;31mValueError\u001b[0m: Expected 2D array, got 1D array instead:\narray=[9.8690002e+01 6.0000000e+00 6.4000000e+01 1.7329934e+05 1.7329934e+05\n 0.0000000e+00 1.6000000e-01 1.7000000e-01 2.8000000e-01 2.3000000e-01\n 6.9000000e-01 0.0000000e+00 0.0000000e+00 1.6000000e-01 1.7000000e-01\n 4.0000001e-01 1.0800000e+00 0.0000000e+00 0.0000000e+00 0.0000000e+00\n 0.0000000e+00 0.0000000e+00 0.0000000e+00 0.0000000e+00 1.0000000e+00\n 0.0000000e+00 0.0000000e+00 0.0000000e+00 0.0000000e+00 0.0000000e+00\n 1.0000000e+00 1.0000000e+00 6.9209003e+02 5.9080002e+01 7.3779999e+01\n 6.6115402e+01 5.3195319e+00 6.5309998e+01 8.4667048e+07 9.5000000e+00\n 1.1491471e+01 7.4992042e+00 4.0138855e+01 8.9999998e-01 1.4155000e+02].\nReshape your data either using array.reshape(-1, 1) if your data has a single feature or array.reshape(1, -1) if it contains a single sample."
     ]
    }
   ],
   "source": [
    "output = model.predict(test2)\n",
    "output"
   ]
  },
  {
   "cell_type": "markdown",
   "metadata": {},
   "source": []
  },
  {
   "cell_type": "code",
   "execution_count": null,
   "metadata": {},
   "outputs": [
    {
     "ename": "",
     "evalue": "",
     "output_type": "error",
     "traceback": [
      "\u001b[1;31mRunning cells with 'iomt (Python 3.10.14)' requires the ipykernel package.\n",
      "\u001b[1;31mRun the following command to install 'ipykernel' into the Python environment. \n",
      "\u001b[1;31mCommand: 'conda install -n iomt ipykernel --update-deps --force-reinstall'"
     ]
    }
   ],
   "source": [
    "print(x_test.head())\n",
    "y_test.head()"
   ]
  },
  {
   "cell_type": "code",
   "execution_count": null,
   "metadata": {},
   "outputs": [
    {
     "ename": "",
     "evalue": "",
     "output_type": "error",
     "traceback": [
      "\u001b[1;31mRunning cells with 'iomt (Python 3.10.14)' requires the ipykernel package.\n",
      "\u001b[1;31mRun the following command to install 'ipykernel' into the Python environment. \n",
      "\u001b[1;31mCommand: 'conda install -n iomt ipykernel --update-deps --force-reinstall'"
     ]
    }
   ],
   "source": [
    "model.__dict__"
   ]
  },
  {
   "cell_type": "code",
   "execution_count": null,
   "metadata": {},
   "outputs": [
    {
     "ename": "",
     "evalue": "",
     "output_type": "error",
     "traceback": [
      "\u001b[1;31mRunning cells with 'iomt (Python 3.10.14)' requires the ipykernel package.\n",
      "\u001b[1;31mRun the following command to install 'ipykernel' into the Python environment. \n",
      "\u001b[1;31mCommand: 'conda install -n iomt ipykernel --update-deps --force-reinstall'"
     ]
    }
   ],
   "source": [
    "model.predict( )"
   ]
  }
 ],
 "metadata": {
  "kernelspec": {
   "display_name": "Python 3",
   "language": "python",
   "name": "python3"
  },
  "language_info": {
   "codemirror_mode": {
    "name": "ipython",
    "version": 3
   },
   "file_extension": ".py",
   "mimetype": "text/x-python",
   "name": "python",
   "nbconvert_exporter": "python",
   "pygments_lexer": "ipython3",
   "version": "3.11.5"
  }
 },
 "nbformat": 4,
 "nbformat_minor": 2
}
